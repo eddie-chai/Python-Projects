{
 "cells": [
  {
   "cell_type": "markdown",
   "id": "7d267856",
   "metadata": {},
   "source": [
    "# Task 4 - Visualising Average Sick Leave by Organization Level"
   ]
  },
  {
   "cell_type": "code",
   "execution_count": 17,
   "id": "351af91c",
   "metadata": {},
   "outputs": [],
   "source": [
    "#import matplotlib and pandas module libraries\n",
    "import numpy as np\n",
    "import matplotlib.pyplot as plt\n",
    "import pandas as pd"
   ]
  },
  {
   "cell_type": "code",
   "execution_count": 12,
   "id": "e1e17135",
   "metadata": {
    "scrolled": false
   },
   "outputs": [],
   "source": [
    "#import csv onto python\n",
    "df = pd.read_csv (r'Task 4 - Organization Level.csv')\n",
    "df0 = df.fillna('CEO')\n",
    "convert_dict = {'OrganizationLevel': str}\n",
    "df_final = df0.astype(convert_dict)"
   ]
  },
  {
   "cell_type": "code",
   "execution_count": 13,
   "id": "fa90e3c4",
   "metadata": {},
   "outputs": [],
   "source": [
    "#assigning columns to variables\n",
    "OrganizationLevel = df_final['OrganizationLevel']\n",
    "AverageSickLeave = df_final['AverageSickLeave']"
   ]
  },
  {
   "cell_type": "code",
   "execution_count": 27,
   "id": "fb9ada52",
   "metadata": {},
   "outputs": [
    {
     "data": {
      "image/png": "[encoded data removed]",
      "text/plain": [
       "<Figure size 432x288 with 1 Axes>"
      ]
     },
     "metadata": {
      "needs_background": "light"
     },
     "output_type": "display_data"
    }
   ],
   "source": [
    "plt.bar(OrganizationLevel, AverageSickLeave)\n",
    "plt.xlabel('Organization Level')\n",
    "plt.ylabel('Average Sick Leave')\n",
    "plt.show()"
   ]
  },
  {
   "cell_type": "code",
   "execution_count": null,
   "id": "16f91a1d",
   "metadata": {},
   "outputs": [],
   "source": []
  },
  {
   "cell_type": "code",
   "execution_count": null,
   "id": "84722ced",
   "metadata": {},
   "outputs": [],
   "source": []
  }
 ],
 "metadata": {
  "kernelspec": {
   "display_name": "Python 3 (ipykernel)",
   "language": "python",
   "name": "python3"
  },
  "language_info": {
   "codemirror_mode": {
    "name": "ipython",
    "version": 3
   },
   "file_extension": ".py",
   "mimetype": "text/x-python",
   "name": "python",
   "nbconvert_exporter": "python",
   "pygments_lexer": "ipython3",
   "version": "3.9.12"
  }
 },
 "nbformat": 4,
 "nbformat_minor": 5
}
